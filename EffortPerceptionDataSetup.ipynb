{
 "cells": [
  {
   "cell_type": "code",
   "execution_count": 13,
   "metadata": {},
   "outputs": [],
   "source": [
    "from scipy.io import loadmat\n",
    "import os \n",
    "import re \n",
    "import numpy as np\n",
    "import pandas as pd \n",
    "import statsmodels.api as sm\n",
    "import statsmodels.formula.api as smf"
   ]
  },
  {
   "cell_type": "code",
   "execution_count": 2,
   "metadata": {},
   "outputs": [],
   "source": [
    "#Setting the folders in which to retrieve the data from and run the code\n",
    "rootpath = \"E:\\Thesis work\\Pendrive\\Risk preferences in PD\\Effort choices\\Analysis\"\n",
    "data_location = os.path.join(rootpath,\"PD_effort data for analysis\")"
   ]
  },
  {
   "cell_type": "code",
   "execution_count": 3,
   "metadata": {},
   "outputs": [],
   "source": [
    "#Lists all folders in the data folder\n",
    "folders = os.listdir(data_location)"
   ]
  },
  {
   "cell_type": "code",
   "execution_count": 4,
   "metadata": {},
   "outputs": [],
   "source": [
    "#Since the data was accrued on two days identified by the codes ON and OFF, making two lists containing the subject names\n",
    "#in each of the folders. \n",
    "name_off=[];\n",
    "name_on=[];\n",
    "\n",
    "for item in folders:\n",
    "    if re.search(\"^GR\\w*\\sOFF$\",item) is not None:\n",
    "        name_off.append(item)\n",
    "    elif re.search(\"^GR\\w*\\sON$\",item) is not None:\n",
    "        name_on.append(item)"
   ]
  },
  {
   "cell_type": "code",
   "execution_count": 5,
   "metadata": {},
   "outputs": [
    {
     "name": "stdout",
     "output_type": "stream",
     "text": [
      "['GR0001 OFF', 'GR0012 OFF', 'GR0065 OFF', 'GR0071 OFF', 'GR0097 OFF', 'GR0098 OFF', 'GR0099 OFF', 'GR0101 OFF', 'GR0102 OFF', 'GR0106 OFF', 'GR0108 OFF', 'GR0111 OFF', 'GR0180 OFF', 'GR0182 OFF', 'GR0184 OFF', 'GR0187 OFF', 'GR0195 OFF', 'GR0207 OFF', 'GR0208 OFF']\n"
     ]
    }
   ],
   "source": [
    "print(name_off)"
   ]
  },
  {
   "cell_type": "code",
   "execution_count": 6,
   "metadata": {},
   "outputs": [],
   "source": [
    "#List of lists of subject names\n",
    "masterlist = list(map(list,zip(name_off,name_on)))"
   ]
  },
  {
   "cell_type": "markdown",
   "metadata": {},
   "source": [
    "The next part of the code will iterate through the subject folders. In each folder,there are five folders each associated with a phase of the experiment: MVC, Association (assoc), Recall, Choice and Trial Selection. MVC, Assoc and Recall involved grip force exertion and have force recording values. \n",
    "\n",
    "One master data frame will be made containing the force recordings for every trial from all these phases across trials, subjects and treatment days. "
   ]
  },
  {
   "cell_type": "code",
   "execution_count": 7,
   "metadata": {},
   "outputs": [],
   "source": [
    "Volt = np.empty([19*2*(3+40+48),8002])\n",
    "MVCPhase = np.empty([19*2,3])\n",
    "AssocPhase = np.empty([19*2*(40),3])\n",
    "RecallPhase = np.empty([19*2*(48),5])\n",
    "count=0"
   ]
  },
  {
   "cell_type": "code",
   "execution_count": 8,
   "metadata": {},
   "outputs": [],
   "source": [
    "for i in range(len(masterlist)):\n",
    "    for j in range(len(masterlist[i])):\n",
    "        #Load MVC data with necessary calculations\n",
    "        folder = os.path.join(data_location,masterlist[i][j],\"MVCPhase.mat\")\n",
    "        mvc = loadmat(folder)\n",
    "        \n",
    "        a = np.tile([i+1,j+1],[3,1])\n",
    "        \n",
    "        Volt[count:count+3,:] = np.concatenate((mvc['voltMVCTrial'],a),axis=1)\n",
    "        count=count+3\n",
    "        \n",
    "        folder = os.path.join(data_location,masterlist[i][j],\"AssocPhase.mat\")\n",
    "        assoc = loadmat(folder)\n",
    "        \n",
    "        a = np.tile([i+1,j+1],[40,1])\n",
    "        Volt[count:count+40,:] = np.concatenate((assoc['voltAssocTrial'],a),axis=1)\n",
    "        count = count+40\n",
    "        \n",
    "        folder = os.path.join(data_location,masterlist[i][j],\"RecallPhase.mat\")\n",
    "        recall = loadmat(folder)\n",
    "        \n",
    "        a = np.tile([i+1,j+1],[48,1])\n",
    "        Volt[count:count+48,:] = np.concatenate((recall['voltRecallTrial'],a),axis=1)\n",
    "        count = count+48\n",
    "        \n",
    "        MVCPhase[2*i+j,:] = [i+1,j+1,0.8*np.max(np.array(mvc['voltMVCTrial']))]\n",
    "        AssocPhase[(2*i+j)*40:(2*i+j+1)*40,0:3] = np.concatenate((np.array(assoc['AssocTrial'][:,0:2]),np.tile(MVCPhase[2*i+j,2],[40,1])),axis =1)\n",
    "        RecallPhase[(2*i+j)*48:(2*i+j+1)*48,0:5] = np.concatenate((np.array(recall['RecallTrial'][:,0:4]),np.tile(MVCPhase[2*i+j,2],[48,1])),axis =1)\n"
   ]
  },
  {
   "cell_type": "code",
   "execution_count": 9,
   "metadata": {},
   "outputs": [],
   "source": [
    "Volts = pd.DataFrame(Volt)\n",
    "Volts.rename(columns = {8000:'SID',8001:'TREAT'},inplace=True)\n",
    "\n",
    "#Add a variable to describe the trial number.          \n",
    "TrialNum = np.concatenate((np.arange(1,4),np.arange(1,41),np.arange(1,49)))\n",
    "Volts['TrialNum']  = np.reshape(np.tile(TrialNum,[38,1]),91*38)   \n",
    "\n",
    "#Add a variable to describe which phase the data is from: 1 for MVC, 2 for Assoc and 3 for Recall\n",
    "PhaseVar = np.concatenate((np.tile(1,[3,1]),np.tile(2,[40,1]),np.tile(3,[48,1])))\n",
    "Volts['PhaseVar'] =  np.tile(PhaseVar,[38,1])\n",
    " \n",
    "Volts['Mean'] = Volts.iloc[:,2000:7998].mean(axis=1)    #Mean force exerted over 4s\n",
    "Volts['Std'] = Volts.iloc[:,2000:7998].std(axis=1)      #Standard deviation in force exerted\n",
    "Volts['MaxVolt'] = Volts.iloc[:,0:7999].max(axis=1)     #Maximum force exerted during the 4s\n",
    "\n",
    "#Change identifier variables to categorical. Will help with linear regressions later. \n",
    "Volts[['SID','TREAT','TrialNum','PhaseVar']]= Volts[['SID','TREAT','TrialNum','PhaseVar']].astype('category')"
   ]
  },
  {
   "cell_type": "code",
   "execution_count": 10,
   "metadata": {},
   "outputs": [],
   "source": [
    "#Populating the association dataframe. The dataframe has the target force, Outcome (success or failure) and Max force. \n",
    "AssocPhase = pd.DataFrame(AssocPhase,columns = ['T','O','MVC'])\n",
    "\n",
    "#Adding subject ID, Treatment condition, Trial number, mean exertion and standard deviation\n",
    "AssocPhase[['SID','TREAT','TrialNum','M','S']]= Volts[Volts['PhaseVar']==2].loc[:,['SID','TREAT','TrialNum','Mean','Std']].reset_index(drop=True)\n",
    "#Mean and Standard deviation are normalised to individual maximum grip force\n",
    "AssocPhase.loc[:,['M','S']] = AssocPhase.loc[:,['M','S']].div(AssocPhase['MVC'],axis=0)*100\n",
    "#A normalised metric of variability is defined. \n",
    "AssocPhase['SDN']=AssocPhase['S']/AssocPhase['M']"
   ]
  },
  {
   "cell_type": "code",
   "execution_count": 12,
   "metadata": {},
   "outputs": [],
   "source": [
    "#Populating the recall dataframe. The dataframe has the target force,reported effort level,\n",
    "#Reaction time to report, Outcome (success or failure) and Max force.\n",
    "RecallPhase = pd.DataFrame(RecallPhase,columns = ['T','R','RT','O','MVC'])\n",
    "#Adding subject ID, Treatment condition, Trial number, mean exertion and standard deviation\n",
    "RecallPhase[['SID','TREAT','TrialNum','M','S']]= Volts[Volts['PhaseVar']==3].loc[:,['SID','TREAT','TrialNum','Mean','Std']].reset_index(drop=True)\n",
    "#Mean and Standard deviation are normalised to individual maximum grip force\n",
    "RecallPhase[['M','S']] = RecallPhase[['M','S']].div(RecallPhase['MVC'],axis=0)*100\n",
    "#A normalised metric of variability is defined. \n",
    "RecallPhase['SDN']=RecallPhase['S']/RecallPhase['M']\n",
    "#RM - Difference between report and exerted effort. To determine accuracy of perceiving exerted effort. \n",
    "RecallPhase['RM']= RecallPhase['R'] - RecallPhase['M']\n",
    "RecallPhase['RMabs'] = np.absolute(RecallPhase['RM'])"
   ]
  },
  {
   "cell_type": "markdown",
   "metadata": {},
   "source": [
    "The data is now processed and all the variables required for further analysis are available. \n",
    "Goal: 1. To determine whether acuity of effort perception is affected by medication. \n",
    "2. If not, can we outline a mechanism to explain that. "
   ]
  },
  {
   "cell_type": "code",
   "execution_count": null,
   "metadata": {},
   "outputs": [],
   "source": [
    "#Save all the dataframes into csv files that can be loaded up for further analysis. Once the data is set-up,\n",
    "#we should not have to run this code again. \n",
    "\n"
   ]
  },
  {
   "cell_type": "code",
   "execution_count": 14,
   "metadata": {},
   "outputs": [
    {
     "name": "stdout",
     "output_type": "stream",
     "text": [
      "          Mixed Linear Model Regression Results\n",
      "=========================================================\n",
      "Model:             MixedLM Dependent Variable: R         \n",
      "No. Observations:  1824    Method:             REML      \n",
      "No. Groups:        19      Scale:              261.6134  \n",
      "Min. group size:   96      Likelihood:         -7696.5521\n",
      "Max. group size:   96      Converged:          Yes       \n",
      "Mean group size:   96.0                                  \n",
      "---------------------------------------------------------\n",
      "               Coef.  Std.Err.   z    P>|z| [0.025 0.975]\n",
      "---------------------------------------------------------\n",
      "Intercept       1.529    2.275  0.672 0.502 -2.931  5.988\n",
      "TREAT[T.2.0]    4.877    1.865  2.615 0.009  1.222  8.532\n",
      "M               1.216    0.031 39.376 0.000  1.155  1.276\n",
      "M:TREAT[T.2.0] -0.189    0.042 -4.473 0.000 -0.272 -0.106\n",
      "Group Var      64.358    1.389                           \n",
      "=========================================================\n",
      "\n"
     ]
    }
   ],
   "source": [
    "mixed = smf.mixedlm(\"R ~ M*TREAT\", RecallPhase, groups = RecallPhase[\"SID\"])\n",
    "mixed_fit = mixed.fit()\n",
    "#print the summary\n",
    "print(mixed_fit.summary())"
   ]
  },
  {
   "cell_type": "code",
   "execution_count": 17,
   "metadata": {},
   "outputs": [
    {
     "name": "stdout",
     "output_type": "stream",
     "text": [
      "          Mixed Linear Model Regression Results\n",
      "=========================================================\n",
      "Model:             MixedLM Dependent Variable: S         \n",
      "No. Observations:  1824    Method:             REML      \n",
      "No. Groups:        19      Scale:              16.7453   \n",
      "Min. group size:   96      Likelihood:         -5186.8449\n",
      "Max. group size:   96      Converged:          Yes       \n",
      "Mean group size:   96.0                                  \n",
      "---------------------------------------------------------\n",
      "               Coef.  Std.Err.   z    P>|z| [0.025 0.975]\n",
      "---------------------------------------------------------\n",
      "Intercept       0.834    0.441  1.889 0.059 -0.031  1.699\n",
      "TREAT[T.2.0]    1.388    0.472  2.942 0.003  0.463  2.312\n",
      "M               0.206    0.008 26.330 0.000  0.190  0.221\n",
      "M:TREAT[T.2.0] -0.037    0.011 -3.477 0.001 -0.058 -0.016\n",
      "Group Var       1.525    0.139                           \n",
      "=========================================================\n",
      "\n"
     ]
    }
   ],
   "source": [
    "mixed2 = smf.mixedlm(\"S ~ M*TREAT\", RecallPhase, groups = RecallPhase[\"SID\"])\n",
    "mixed_fit2 = mixed2.fit()\n",
    "#print the summary\n",
    "print(mixed_fit2.summary())"
   ]
  },
  {
   "cell_type": "code",
   "execution_count": 19,
   "metadata": {},
   "outputs": [
    {
     "name": "stdout",
     "output_type": "stream",
     "text": [
      "           Mixed Linear Model Regression Results\n",
      "============================================================\n",
      "Model:              MixedLM  Dependent Variable:  RM        \n",
      "No. Observations:   1824     Method:              REML      \n",
      "No. Groups:         19       Scale:               264.3227  \n",
      "Min. group size:    96       Likelihood:          -7695.6009\n",
      "Max. group size:    96       Converged:           Yes       \n",
      "Mean group size:    96.0                                    \n",
      "------------------------------------------------------------\n",
      "                 Coef.  Std.Err.   z    P>|z|  [0.025 0.975]\n",
      "------------------------------------------------------------\n",
      "Intercept         5.320    2.212  2.405 0.016   0.984  9.656\n",
      "TREAT[T.2.0]     -0.989    1.604 -0.617 0.538  -4.132  2.155\n",
      "SDN              20.348    4.998  4.071 0.000  10.552 30.144\n",
      "SDN:TREAT[T.2.0] -7.332    5.938 -1.235 0.217 -18.971  4.306\n",
      "Group Var        61.260    1.319                            \n",
      "============================================================\n",
      "\n"
     ]
    }
   ],
   "source": [
    "mixed3 = smf.mixedlm(\"RM ~ SDN*TREAT\", RecallPhase, groups = RecallPhase[\"SID\"])\n",
    "mixed_fit3 = mixed3.fit()\n",
    "#print the summary\n",
    "print(mixed_fit3.summary())"
   ]
  },
  {
   "cell_type": "code",
   "execution_count": 21,
   "metadata": {},
   "outputs": [
    {
     "name": "stdout",
     "output_type": "stream",
     "text": [
      "           Mixed Linear Model Regression Results\n",
      "============================================================\n",
      "Model:              MixedLM  Dependent Variable:  RMabs     \n",
      "No. Observations:   1824     Method:              REML      \n",
      "No. Groups:         19       Scale:               134.4276  \n",
      "Min. group size:    96       Likelihood:          -7079.2498\n",
      "Max. group size:    96       Converged:           Yes       \n",
      "Mean group size:    96.0                                    \n",
      "------------------------------------------------------------\n",
      "                 Coef.  Std.Err.   z    P>|z|  [0.025 0.975]\n",
      "------------------------------------------------------------\n",
      "Intercept        12.692    1.516  8.371 0.000   9.721 15.664\n",
      "TREAT[T.2.0]      1.500    1.144  1.312 0.190  -0.741  3.742\n",
      "SDN              13.684    3.564  3.839 0.000   6.699 20.670\n",
      "SDN:TREAT[T.2.0] -8.980    4.234 -2.121 0.034 -17.279 -0.681\n",
      "Group Var        27.540    0.837                            \n",
      "============================================================\n",
      "\n"
     ]
    }
   ],
   "source": [
    "mixed4 = smf.mixedlm(\"RMabs ~ SDN*TREAT\", RecallPhase, groups = RecallPhase[\"SID\"])\n",
    "mixed_fit4 = mixed4.fit()\n",
    "#print the summary\n",
    "print(mixed_fit4.summary())"
   ]
  },
  {
   "cell_type": "code",
   "execution_count": null,
   "metadata": {},
   "outputs": [],
   "source": []
  }
 ],
 "metadata": {
  "kernelspec": {
   "display_name": "Python 3",
   "language": "python",
   "name": "python3"
  },
  "language_info": {
   "codemirror_mode": {
    "name": "ipython",
    "version": 3
   },
   "file_extension": ".py",
   "mimetype": "text/x-python",
   "name": "python",
   "nbconvert_exporter": "python",
   "pygments_lexer": "ipython3",
   "version": "3.6.5"
  }
 },
 "nbformat": 4,
 "nbformat_minor": 2
}
