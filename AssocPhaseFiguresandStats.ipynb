{
 "cells": [
  {
   "cell_type": "markdown",
   "metadata": {},
   "source": [
    "This notebook will cover 1. visual representations of mean exertion and success/failure at each target level  during the association phase, and whether there is any effect of treatment on being able to reach the required targets. In other words, are participants less likely to be able to reach and sustain the target force when not medicated? Second, is there any difference in the variability in force production in the absence of medication? "
   ]
  },
  {
   "cell_type": "code",
   "execution_count": 1,
   "metadata": {},
   "outputs": [],
   "source": [
    "#Import the necessary libraries. \n",
    "% matplotlib inline\n",
    "\n",
    "import pandas as pd \n",
    "import numpy as np\n",
    "import os\n",
    "import matplotlib.pyplot as plt\n",
    "from scipy import stats\n",
    "import statsmodels.api as sm\n",
    "from statsmodels.formula.api import ols\n",
    "from statsmodels.stats.anova import anova_lm"
   ]
  },
  {
   "cell_type": "code",
   "execution_count": 2,
   "metadata": {},
   "outputs": [],
   "source": [
    "#EXtract the file with the association data and store in a dataframe. \n",
    "rootpath = \"E:\\Thesis work\\Pendrive\\Risk preferences in PD\\Effort choices\\Analysis\"\n",
    "filename = \"AssocPhase.csv\"\n",
    "assoc = pd.read_csv(os.path.join(rootpath,filename))"
   ]
  },
  {
   "cell_type": "code",
   "execution_count": 5,
   "metadata": {},
   "outputs": [
    {
     "data": {
      "text/html": [
       "<div>\n",
       "<style scoped>\n",
       "    .dataframe tbody tr th:only-of-type {\n",
       "        vertical-align: middle;\n",
       "    }\n",
       "\n",
       "    .dataframe tbody tr th {\n",
       "        vertical-align: top;\n",
       "    }\n",
       "\n",
       "    .dataframe thead th {\n",
       "        text-align: right;\n",
       "    }\n",
       "</style>\n",
       "<table border=\"1\" class=\"dataframe\">\n",
       "  <thead>\n",
       "    <tr style=\"text-align: right;\">\n",
       "      <th></th>\n",
       "      <th>T</th>\n",
       "      <th>O</th>\n",
       "      <th>MVC</th>\n",
       "      <th>SID</th>\n",
       "      <th>TREAT</th>\n",
       "      <th>TrialNum</th>\n",
       "      <th>M</th>\n",
       "      <th>S</th>\n",
       "      <th>SDN</th>\n",
       "    </tr>\n",
       "  </thead>\n",
       "  <tbody>\n",
       "    <tr>\n",
       "      <th>0</th>\n",
       "      <td>60</td>\n",
       "      <td>0</td>\n",
       "      <td>0.456985</td>\n",
       "      <td>1</td>\n",
       "      <td>1</td>\n",
       "      <td>1</td>\n",
       "      <td>47.698662</td>\n",
       "      <td>11.695090</td>\n",
       "      <td>0.245187</td>\n",
       "    </tr>\n",
       "    <tr>\n",
       "      <th>1</th>\n",
       "      <td>60</td>\n",
       "      <td>1</td>\n",
       "      <td>0.456985</td>\n",
       "      <td>1</td>\n",
       "      <td>1</td>\n",
       "      <td>2</td>\n",
       "      <td>56.129415</td>\n",
       "      <td>10.423609</td>\n",
       "      <td>0.185707</td>\n",
       "    </tr>\n",
       "    <tr>\n",
       "      <th>2</th>\n",
       "      <td>60</td>\n",
       "      <td>0</td>\n",
       "      <td>0.456985</td>\n",
       "      <td>1</td>\n",
       "      <td>1</td>\n",
       "      <td>3</td>\n",
       "      <td>57.327787</td>\n",
       "      <td>3.342513</td>\n",
       "      <td>0.058305</td>\n",
       "    </tr>\n",
       "    <tr>\n",
       "      <th>3</th>\n",
       "      <td>60</td>\n",
       "      <td>1</td>\n",
       "      <td>0.456985</td>\n",
       "      <td>1</td>\n",
       "      <td>1</td>\n",
       "      <td>4</td>\n",
       "      <td>58.241509</td>\n",
       "      <td>1.663777</td>\n",
       "      <td>0.028567</td>\n",
       "    </tr>\n",
       "    <tr>\n",
       "      <th>4</th>\n",
       "      <td>60</td>\n",
       "      <td>1</td>\n",
       "      <td>0.456985</td>\n",
       "      <td>1</td>\n",
       "      <td>1</td>\n",
       "      <td>5</td>\n",
       "      <td>58.143234</td>\n",
       "      <td>1.150266</td>\n",
       "      <td>0.019783</td>\n",
       "    </tr>\n",
       "  </tbody>\n",
       "</table>\n",
       "</div>"
      ],
      "text/plain": [
       "    T  O       MVC  SID  TREAT  TrialNum          M          S       SDN\n",
       "0  60  0  0.456985    1      1         1  47.698662  11.695090  0.245187\n",
       "1  60  1  0.456985    1      1         2  56.129415  10.423609  0.185707\n",
       "2  60  0  0.456985    1      1         3  57.327787   3.342513  0.058305\n",
       "3  60  1  0.456985    1      1         4  58.241509   1.663777  0.028567\n",
       "4  60  1  0.456985    1      1         5  58.143234   1.150266  0.019783"
      ]
     },
     "execution_count": 5,
     "metadata": {},
     "output_type": "execute_result"
    }
   ],
   "source": [
    "assoc.head()"
   ]
  },
  {
   "cell_type": "code",
   "execution_count": 13,
   "metadata": {},
   "outputs": [
    {
     "data": {
      "text/html": [
       "<div>\n",
       "<style scoped>\n",
       "    .dataframe tbody tr th:only-of-type {\n",
       "        vertical-align: middle;\n",
       "    }\n",
       "\n",
       "    .dataframe tbody tr th {\n",
       "        vertical-align: top;\n",
       "    }\n",
       "\n",
       "    .dataframe thead th {\n",
       "        text-align: right;\n",
       "    }\n",
       "</style>\n",
       "<table border=\"1\" class=\"dataframe\">\n",
       "  <thead>\n",
       "    <tr style=\"text-align: right;\">\n",
       "      <th></th>\n",
       "      <th></th>\n",
       "      <th>T</th>\n",
       "      <th>O</th>\n",
       "      <th>MVC</th>\n",
       "      <th>TrialNum</th>\n",
       "      <th>M</th>\n",
       "      <th>S</th>\n",
       "      <th>SDN</th>\n",
       "    </tr>\n",
       "    <tr>\n",
       "      <th>TREAT</th>\n",
       "      <th>SID</th>\n",
       "      <th></th>\n",
       "      <th></th>\n",
       "      <th></th>\n",
       "      <th></th>\n",
       "      <th></th>\n",
       "      <th></th>\n",
       "      <th></th>\n",
       "    </tr>\n",
       "  </thead>\n",
       "  <tbody>\n",
       "    <tr>\n",
       "      <th rowspan=\"5\" valign=\"top\">1</th>\n",
       "      <th>1</th>\n",
       "      <td>45.0</td>\n",
       "      <td>0.825</td>\n",
       "      <td>0.456985</td>\n",
       "      <td>20.5</td>\n",
       "      <td>43.699024</td>\n",
       "      <td>6.243690</td>\n",
       "      <td>0.161378</td>\n",
       "    </tr>\n",
       "    <tr>\n",
       "      <th>2</th>\n",
       "      <td>45.0</td>\n",
       "      <td>1.000</td>\n",
       "      <td>0.725306</td>\n",
       "      <td>20.5</td>\n",
       "      <td>43.615576</td>\n",
       "      <td>6.452306</td>\n",
       "      <td>0.161677</td>\n",
       "    </tr>\n",
       "    <tr>\n",
       "      <th>3</th>\n",
       "      <td>45.0</td>\n",
       "      <td>0.750</td>\n",
       "      <td>0.821734</td>\n",
       "      <td>20.5</td>\n",
       "      <td>42.752141</td>\n",
       "      <td>6.047384</td>\n",
       "      <td>0.164083</td>\n",
       "    </tr>\n",
       "    <tr>\n",
       "      <th>4</th>\n",
       "      <td>45.0</td>\n",
       "      <td>0.975</td>\n",
       "      <td>0.872044</td>\n",
       "      <td>20.5</td>\n",
       "      <td>42.033746</td>\n",
       "      <td>5.916771</td>\n",
       "      <td>0.152614</td>\n",
       "    </tr>\n",
       "    <tr>\n",
       "      <th>5</th>\n",
       "      <td>45.0</td>\n",
       "      <td>0.875</td>\n",
       "      <td>0.712729</td>\n",
       "      <td>20.5</td>\n",
       "      <td>42.869475</td>\n",
       "      <td>7.347279</td>\n",
       "      <td>0.193163</td>\n",
       "    </tr>\n",
       "  </tbody>\n",
       "</table>\n",
       "</div>"
      ],
      "text/plain": [
       "              T      O       MVC  TrialNum          M         S       SDN\n",
       "TREAT SID                                                                \n",
       "1     1    45.0  0.825  0.456985      20.5  43.699024  6.243690  0.161378\n",
       "      2    45.0  1.000  0.725306      20.5  43.615576  6.452306  0.161677\n",
       "      3    45.0  0.750  0.821734      20.5  42.752141  6.047384  0.164083\n",
       "      4    45.0  0.975  0.872044      20.5  42.033746  5.916771  0.152614\n",
       "      5    45.0  0.875  0.712729      20.5  42.869475  7.347279  0.193163"
      ]
     },
     "execution_count": 13,
     "metadata": {},
     "output_type": "execute_result"
    }
   ],
   "source": [
    "outcome_bysub = assoc.groupby(['TREAT','SID']).mean()\n",
    "outcome = outcome_bysub['O'].groupby('TREAT').agg(['mean','std'])\n",
    "outcome['sem'] = outcome['std']/np.sqrt(assoc['SID'].unique().shape[0])\n",
    "outcome.loc[1,:]\n",
    "outcome_bysub.head()"
   ]
  },
  {
   "cell_type": "code",
   "execution_count": 60,
   "metadata": {},
   "outputs": [
    {
     "data": {
      "image/png": "[encoded data removed]",
      "text/plain": [
       "<Figure size 144x288 with 1 Axes>"
      ]
     },
     "metadata": {},
     "output_type": "display_data"
    }
   ],
   "source": [
    "fig,ax=plt.subplots(figsize=[2,4])\n",
    "plt.scatter([1,1.25],outcome['mean'],c='k')\n",
    "plt.errorbar([1,1.25],outcome['mean'],yerr=outcome['sem'],fmt='none',ecolor='k')\n",
    "plt.xlim([0.8,1.45])\n",
    "plt.xticks([1,1.25],['OFF','ON'])\n",
    "plt.ylim([0,1])\n",
    "plt.yticks(np.arange(0,1.01,step=0.5))\n",
    "plt.ylabel('Outcome - success/failure in task')\n",
    "ax.spines['top'].set_visible(False)\n",
    "ax.spines['right'].set_visible(False)"
   ]
  },
  {
   "cell_type": "code",
   "execution_count": 29,
   "metadata": {},
   "outputs": [
    {
     "data": {
      "text/plain": [
       "Text(0.5,0,'Difference in outcome OFF-ON')"
      ]
     },
     "execution_count": 29,
     "metadata": {},
     "output_type": "execute_result"
    },
    {
     "data": {
      "image/png": "[encoded data removed]",
      "text/plain": [
       "<Figure size 432x288 with 1 Axes>"
      ]
     },
     "metadata": {},
     "output_type": "display_data"
    }
   ],
   "source": [
    "#Plotting a Q-Q plot to check for normality of outcome data. \n",
    "#outcome_diff = outcome_bysub.loc[outcome_bysub.index.get_level_values(0).unique()[0],'O'] - outcome_bysub.loc[outcome_bysub.index.get_level_values(0).unique()[1],'O']\n",
    "\n",
    "outcome_diff = outcome_bysub.loc[1,'O'] - outcome_bysub.loc[2,'O']\n",
    "#outcome_bysub.loc[1,'O']\n",
    "\n",
    "fig,ax=plt.subplots()\n",
    "outcome_diff.plot(kind='hist', title= 'Outcome Difference Histogram',color='k');\n",
    "ax.spines['top'].set_visible(False)\n",
    "ax.spines['right'].set_visible(False)\n",
    "plt.xlabel('Difference in outcome OFF-ON');"
   ]
  },
  {
   "cell_type": "code",
   "execution_count": 38,
   "metadata": {},
   "outputs": [
    {
     "data": {
      "image/png": "[encoded data removed]",
      "text/plain": [
       "<Figure size 432x288 with 1 Axes>"
      ]
     },
     "metadata": {},
     "output_type": "display_data"
    }
   ],
   "source": [
    "#Test of normality using a Q-Q plot\n",
    "fig,ax=plt.subplots()\n",
    "stats.probplot(outcome_diff, plot= plt)\n",
    "plt.title('Outcome in grip force exertion difference Q-Q Plot');\n",
    "ax.get_lines()[0].set_markerfacecolor((0.5,0.5,0.5))\n",
    "ax.get_lines()[0].set_markeredgecolor((0.5,0.5,0.5))\n",
    "ax.get_lines()[1].set_color('k')"
   ]
  },
  {
   "cell_type": "code",
   "execution_count": 64,
   "metadata": {},
   "outputs": [
    {
     "data": {
      "text/plain": [
       "(0.9372233152389526, 0.23488105833530426)"
      ]
     },
     "execution_count": 64,
     "metadata": {},
     "output_type": "execute_result"
    }
   ],
   "source": [
    "#Final quantitative test of normality using a Wilk-Shapiro test\n",
    "stats.shapiro(outcome_diff)"
   ]
  },
  {
   "cell_type": "code",
   "execution_count": 39,
   "metadata": {},
   "outputs": [
    {
     "data": {
      "text/plain": [
       "Ttest_relResult(statistic=0.5337881009488558, pvalue=0.6000187412685416)"
      ]
     },
     "execution_count": 39,
     "metadata": {},
     "output_type": "execute_result"
    }
   ],
   "source": [
    "stats.ttest_rel(outcome_bysub.loc[1,'O'],outcome_bysub.loc[2,'O'])"
   ]
  },
  {
   "cell_type": "markdown",
   "metadata": {},
   "source": [
    "We tested differences in overall outcome. There are no effects of treatment on overall success, failure of the task. \n",
    "Next, we want to determine if there are any treatment effects on specific targets. We will determine this by fist created a grouped table of outcomes, mean exertion and deviation by treatment, for each subject for each target level.  "
   ]
  },
  {
   "cell_type": "code",
   "execution_count": 93,
   "metadata": {},
   "outputs": [
    {
     "data": {
      "text/html": [
       "<div>\n",
       "<style scoped>\n",
       "    .dataframe tbody tr th:only-of-type {\n",
       "        vertical-align: middle;\n",
       "    }\n",
       "\n",
       "    .dataframe tbody tr th {\n",
       "        vertical-align: top;\n",
       "    }\n",
       "\n",
       "    .dataframe thead th {\n",
       "        text-align: right;\n",
       "    }\n",
       "</style>\n",
       "<table border=\"1\" class=\"dataframe\">\n",
       "  <thead>\n",
       "    <tr style=\"text-align: right;\">\n",
       "      <th></th>\n",
       "      <th></th>\n",
       "      <th></th>\n",
       "      <th>O</th>\n",
       "      <th>MVC</th>\n",
       "      <th>TrialNum</th>\n",
       "      <th>M</th>\n",
       "      <th>S</th>\n",
       "      <th>SDN</th>\n",
       "    </tr>\n",
       "    <tr>\n",
       "      <th>TREAT</th>\n",
       "      <th>SID</th>\n",
       "      <th>T</th>\n",
       "      <th></th>\n",
       "      <th></th>\n",
       "      <th></th>\n",
       "      <th></th>\n",
       "      <th></th>\n",
       "      <th></th>\n",
       "    </tr>\n",
       "  </thead>\n",
       "  <tbody>\n",
       "    <tr>\n",
       "      <th rowspan=\"5\" valign=\"top\">1</th>\n",
       "      <th rowspan=\"5\" valign=\"top\">1</th>\n",
       "      <th>10</th>\n",
       "      <td>0.8</td>\n",
       "      <td>0.456985</td>\n",
       "      <td>8.0</td>\n",
       "      <td>12.705177</td>\n",
       "      <td>3.198895</td>\n",
       "      <td>0.249352</td>\n",
       "    </tr>\n",
       "    <tr>\n",
       "      <th>20</th>\n",
       "      <td>0.8</td>\n",
       "      <td>0.456985</td>\n",
       "      <td>28.0</td>\n",
       "      <td>20.926525</td>\n",
       "      <td>2.948913</td>\n",
       "      <td>0.148018</td>\n",
       "    </tr>\n",
       "    <tr>\n",
       "      <th>30</th>\n",
       "      <td>1.0</td>\n",
       "      <td>0.456985</td>\n",
       "      <td>38.0</td>\n",
       "      <td>29.388230</td>\n",
       "      <td>5.655588</td>\n",
       "      <td>0.194428</td>\n",
       "    </tr>\n",
       "    <tr>\n",
       "      <th>40</th>\n",
       "      <td>1.0</td>\n",
       "      <td>0.456985</td>\n",
       "      <td>18.0</td>\n",
       "      <td>39.100795</td>\n",
       "      <td>6.788741</td>\n",
       "      <td>0.174387</td>\n",
       "    </tr>\n",
       "    <tr>\n",
       "      <th>50</th>\n",
       "      <td>0.8</td>\n",
       "      <td>0.456985</td>\n",
       "      <td>33.0</td>\n",
       "      <td>47.817692</td>\n",
       "      <td>7.936078</td>\n",
       "      <td>0.167377</td>\n",
       "    </tr>\n",
       "  </tbody>\n",
       "</table>\n",
       "</div>"
      ],
      "text/plain": [
       "                O       MVC  TrialNum          M         S       SDN\n",
       "TREAT SID T                                                         \n",
       "1     1   10  0.8  0.456985       8.0  12.705177  3.198895  0.249352\n",
       "          20  0.8  0.456985      28.0  20.926525  2.948913  0.148018\n",
       "          30  1.0  0.456985      38.0  29.388230  5.655588  0.194428\n",
       "          40  1.0  0.456985      18.0  39.100795  6.788741  0.174387\n",
       "          50  0.8  0.456985      33.0  47.817692  7.936078  0.167377"
      ]
     },
     "execution_count": 93,
     "metadata": {},
     "output_type": "execute_result"
    }
   ],
   "source": [
    "outcome_bysub_byT = assoc.groupby(['TREAT','SID','T']).mean()\n",
    "outcome_bysub_byT.head()"
   ]
  },
  {
   "cell_type": "code",
   "execution_count": 70,
   "metadata": {},
   "outputs": [
    {
     "data": {
      "text/html": [
       "<div>\n",
       "<style scoped>\n",
       "    .dataframe tbody tr th:only-of-type {\n",
       "        vertical-align: middle;\n",
       "    }\n",
       "\n",
       "    .dataframe tbody tr th {\n",
       "        vertical-align: top;\n",
       "    }\n",
       "\n",
       "    .dataframe thead tr th {\n",
       "        text-align: left;\n",
       "    }\n",
       "\n",
       "    .dataframe thead tr:last-of-type th {\n",
       "        text-align: right;\n",
       "    }\n",
       "</style>\n",
       "<table border=\"1\" class=\"dataframe\">\n",
       "  <thead>\n",
       "    <tr>\n",
       "      <th></th>\n",
       "      <th></th>\n",
       "      <th colspan=\"2\" halign=\"left\">O</th>\n",
       "      <th colspan=\"2\" halign=\"left\">MVC</th>\n",
       "      <th colspan=\"2\" halign=\"left\">TrialNum</th>\n",
       "      <th colspan=\"2\" halign=\"left\">M</th>\n",
       "      <th colspan=\"2\" halign=\"left\">S</th>\n",
       "      <th colspan=\"2\" halign=\"left\">SDN</th>\n",
       "    </tr>\n",
       "    <tr>\n",
       "      <th></th>\n",
       "      <th></th>\n",
       "      <th>mean</th>\n",
       "      <th>std</th>\n",
       "      <th>mean</th>\n",
       "      <th>std</th>\n",
       "      <th>mean</th>\n",
       "      <th>std</th>\n",
       "      <th>mean</th>\n",
       "      <th>std</th>\n",
       "      <th>mean</th>\n",
       "      <th>std</th>\n",
       "      <th>mean</th>\n",
       "      <th>std</th>\n",
       "    </tr>\n",
       "    <tr>\n",
       "      <th>TREAT</th>\n",
       "      <th>T</th>\n",
       "      <th></th>\n",
       "      <th></th>\n",
       "      <th></th>\n",
       "      <th></th>\n",
       "      <th></th>\n",
       "      <th></th>\n",
       "      <th></th>\n",
       "      <th></th>\n",
       "      <th></th>\n",
       "      <th></th>\n",
       "      <th></th>\n",
       "      <th></th>\n",
       "    </tr>\n",
       "  </thead>\n",
       "  <tbody>\n",
       "    <tr>\n",
       "      <th rowspan=\"5\" valign=\"top\">1</th>\n",
       "      <th>10</th>\n",
       "      <td>0.936842</td>\n",
       "      <td>0.134208</td>\n",
       "      <td>0.933608</td>\n",
       "      <td>0.342575</td>\n",
       "      <td>23.000000</td>\n",
       "      <td>11.303883</td>\n",
       "      <td>11.103989</td>\n",
       "      <td>2.939820</td>\n",
       "      <td>2.733745</td>\n",
       "      <td>0.898055</td>\n",
       "      <td>0.247253</td>\n",
       "      <td>0.062578</td>\n",
       "    </tr>\n",
       "    <tr>\n",
       "      <th>20</th>\n",
       "      <td>0.936842</td>\n",
       "      <td>0.149854</td>\n",
       "      <td>0.933608</td>\n",
       "      <td>0.342575</td>\n",
       "      <td>19.052632</td>\n",
       "      <td>11.002392</td>\n",
       "      <td>19.402316</td>\n",
       "      <td>1.541604</td>\n",
       "      <td>3.701604</td>\n",
       "      <td>1.037719</td>\n",
       "      <td>0.192778</td>\n",
       "      <td>0.057906</td>\n",
       "    </tr>\n",
       "    <tr>\n",
       "      <th>30</th>\n",
       "      <td>0.936842</td>\n",
       "      <td>0.134208</td>\n",
       "      <td>0.933608</td>\n",
       "      <td>0.342575</td>\n",
       "      <td>22.210526</td>\n",
       "      <td>12.501462</td>\n",
       "      <td>28.814941</td>\n",
       "      <td>1.300900</td>\n",
       "      <td>4.494296</td>\n",
       "      <td>1.322334</td>\n",
       "      <td>0.158329</td>\n",
       "      <td>0.052854</td>\n",
       "    </tr>\n",
       "    <tr>\n",
       "      <th>40</th>\n",
       "      <td>0.926316</td>\n",
       "      <td>0.099119</td>\n",
       "      <td>0.933608</td>\n",
       "      <td>0.342575</td>\n",
       "      <td>18.263158</td>\n",
       "      <td>10.202626</td>\n",
       "      <td>38.302438</td>\n",
       "      <td>1.160228</td>\n",
       "      <td>6.033523</td>\n",
       "      <td>1.129506</td>\n",
       "      <td>0.158055</td>\n",
       "      <td>0.029382</td>\n",
       "    </tr>\n",
       "    <tr>\n",
       "      <th>50</th>\n",
       "      <td>0.831579</td>\n",
       "      <td>0.251777</td>\n",
       "      <td>0.933608</td>\n",
       "      <td>0.342575</td>\n",
       "      <td>22.210526</td>\n",
       "      <td>11.212983</td>\n",
       "      <td>47.325430</td>\n",
       "      <td>1.857380</td>\n",
       "      <td>6.835811</td>\n",
       "      <td>2.028261</td>\n",
       "      <td>0.146768</td>\n",
       "      <td>0.046862</td>\n",
       "    </tr>\n",
       "  </tbody>\n",
       "</table>\n",
       "</div>"
      ],
      "text/plain": [
       "                 O                 MVC             TrialNum             \\\n",
       "              mean       std      mean       std       mean        std   \n",
       "TREAT T                                                                  \n",
       "1     10  0.936842  0.134208  0.933608  0.342575  23.000000  11.303883   \n",
       "      20  0.936842  0.149854  0.933608  0.342575  19.052632  11.002392   \n",
       "      30  0.936842  0.134208  0.933608  0.342575  22.210526  12.501462   \n",
       "      40  0.926316  0.099119  0.933608  0.342575  18.263158  10.202626   \n",
       "      50  0.831579  0.251777  0.933608  0.342575  22.210526  11.212983   \n",
       "\n",
       "                  M                   S                 SDN            \n",
       "               mean       std      mean       std      mean       std  \n",
       "TREAT T                                                                \n",
       "1     10  11.103989  2.939820  2.733745  0.898055  0.247253  0.062578  \n",
       "      20  19.402316  1.541604  3.701604  1.037719  0.192778  0.057906  \n",
       "      30  28.814941  1.300900  4.494296  1.322334  0.158329  0.052854  \n",
       "      40  38.302438  1.160228  6.033523  1.129506  0.158055  0.029382  \n",
       "      50  47.325430  1.857380  6.835811  2.028261  0.146768  0.046862  "
      ]
     },
     "execution_count": 70,
     "metadata": {},
     "output_type": "execute_result"
    }
   ],
   "source": [
    "outcome_byT = outcome_bysub_byT.groupby(['TREAT','T']).agg(['mean','std'])\n",
    "outcome_byT.head()"
   ]
  },
  {
   "cell_type": "code",
   "execution_count": 72,
   "metadata": {},
   "outputs": [],
   "source": [
    "outcome_byT.drop(['TrialNum','MVC'],axis=1,inplace=True)\n",
    "outcome_byT.columns = ['_'.join(col).strip() for col in outcome_byT.columns.values]"
   ]
  },
  {
   "cell_type": "code",
   "execution_count": 74,
   "metadata": {},
   "outputs": [
    {
     "data": {
      "text/html": [
       "<div>\n",
       "<style scoped>\n",
       "    .dataframe tbody tr th:only-of-type {\n",
       "        vertical-align: middle;\n",
       "    }\n",
       "\n",
       "    .dataframe tbody tr th {\n",
       "        vertical-align: top;\n",
       "    }\n",
       "\n",
       "    .dataframe thead th {\n",
       "        text-align: right;\n",
       "    }\n",
       "</style>\n",
       "<table border=\"1\" class=\"dataframe\">\n",
       "  <thead>\n",
       "    <tr style=\"text-align: right;\">\n",
       "      <th></th>\n",
       "      <th></th>\n",
       "      <th>O_mean</th>\n",
       "      <th>O_std</th>\n",
       "      <th>M_mean</th>\n",
       "      <th>M_std</th>\n",
       "      <th>S_mean</th>\n",
       "      <th>S_std</th>\n",
       "      <th>SDN_mean</th>\n",
       "      <th>SDN_std</th>\n",
       "    </tr>\n",
       "    <tr>\n",
       "      <th>TREAT</th>\n",
       "      <th>T</th>\n",
       "      <th></th>\n",
       "      <th></th>\n",
       "      <th></th>\n",
       "      <th></th>\n",
       "      <th></th>\n",
       "      <th></th>\n",
       "      <th></th>\n",
       "      <th></th>\n",
       "    </tr>\n",
       "  </thead>\n",
       "  <tbody>\n",
       "    <tr>\n",
       "      <th rowspan=\"5\" valign=\"top\">1</th>\n",
       "      <th>10</th>\n",
       "      <td>0.936842</td>\n",
       "      <td>0.134208</td>\n",
       "      <td>11.103989</td>\n",
       "      <td>2.939820</td>\n",
       "      <td>2.733745</td>\n",
       "      <td>0.898055</td>\n",
       "      <td>0.247253</td>\n",
       "      <td>0.062578</td>\n",
       "    </tr>\n",
       "    <tr>\n",
       "      <th>20</th>\n",
       "      <td>0.936842</td>\n",
       "      <td>0.149854</td>\n",
       "      <td>19.402316</td>\n",
       "      <td>1.541604</td>\n",
       "      <td>3.701604</td>\n",
       "      <td>1.037719</td>\n",
       "      <td>0.192778</td>\n",
       "      <td>0.057906</td>\n",
       "    </tr>\n",
       "    <tr>\n",
       "      <th>30</th>\n",
       "      <td>0.936842</td>\n",
       "      <td>0.134208</td>\n",
       "      <td>28.814941</td>\n",
       "      <td>1.300900</td>\n",
       "      <td>4.494296</td>\n",
       "      <td>1.322334</td>\n",
       "      <td>0.158329</td>\n",
       "      <td>0.052854</td>\n",
       "    </tr>\n",
       "    <tr>\n",
       "      <th>40</th>\n",
       "      <td>0.926316</td>\n",
       "      <td>0.099119</td>\n",
       "      <td>38.302438</td>\n",
       "      <td>1.160228</td>\n",
       "      <td>6.033523</td>\n",
       "      <td>1.129506</td>\n",
       "      <td>0.158055</td>\n",
       "      <td>0.029382</td>\n",
       "    </tr>\n",
       "    <tr>\n",
       "      <th>50</th>\n",
       "      <td>0.831579</td>\n",
       "      <td>0.251777</td>\n",
       "      <td>47.325430</td>\n",
       "      <td>1.857380</td>\n",
       "      <td>6.835811</td>\n",
       "      <td>2.028261</td>\n",
       "      <td>0.146768</td>\n",
       "      <td>0.046862</td>\n",
       "    </tr>\n",
       "  </tbody>\n",
       "</table>\n",
       "</div>"
      ],
      "text/plain": [
       "            O_mean     O_std     M_mean     M_std    S_mean     S_std  \\\n",
       "TREAT T                                                                 \n",
       "1     10  0.936842  0.134208  11.103989  2.939820  2.733745  0.898055   \n",
       "      20  0.936842  0.149854  19.402316  1.541604  3.701604  1.037719   \n",
       "      30  0.936842  0.134208  28.814941  1.300900  4.494296  1.322334   \n",
       "      40  0.926316  0.099119  38.302438  1.160228  6.033523  1.129506   \n",
       "      50  0.831579  0.251777  47.325430  1.857380  6.835811  2.028261   \n",
       "\n",
       "          SDN_mean   SDN_std  \n",
       "TREAT T                       \n",
       "1     10  0.247253  0.062578  \n",
       "      20  0.192778  0.057906  \n",
       "      30  0.158329  0.052854  \n",
       "      40  0.158055  0.029382  \n",
       "      50  0.146768  0.046862  "
      ]
     },
     "execution_count": 74,
     "metadata": {},
     "output_type": "execute_result"
    }
   ],
   "source": [
    "outcome_byT.head()"
   ]
  },
  {
   "cell_type": "code",
   "execution_count": 75,
   "metadata": {},
   "outputs": [],
   "source": [
    "outcome_byT['O_sem'] = outcome_byT['O_std']/np.sqrt(len(assoc['SID'].unique()))\n"
   ]
  },
  {
   "cell_type": "code",
   "execution_count": 76,
   "metadata": {},
   "outputs": [
    {
     "data": {
      "image/png": "[encoded data removed]",
      "text/plain": [
       "<Figure size 432x288 with 1 Axes>"
      ]
     },
     "metadata": {},
     "output_type": "display_data"
    }
   ],
   "source": [
    "fig,ax=plt.subplots()\n",
    "plt.scatter(np.arange(1,9)-0.15,outcome_byT.loc[1,'O_mean'],c='k',label='OFF')\n",
    "plt.scatter(np.arange(1,9)+0.15,outcome_byT.loc[2,'O_mean'],c=(0.5,0.5,0.5),label='ON')\n",
    "ax.legend();\n",
    "plt.errorbar(np.arange(1,9)-0.15,outcome_byT.loc[1,'O_mean'],yerr=outcome_byT.loc[1,'O_sem'],fmt='none',ecolor='k')\n",
    "plt.errorbar(np.arange(1,9)+0.15,outcome_byT.loc[2,'O_mean'],yerr=outcome_byT.loc[2,'O_sem'],fmt='none',ecolor= (0.5,0.5,0.5))\n",
    "#plt.xlim([0.8,1.45])\n",
    "#plt.xticks([1,1.25],['OFF','ON'])\n",
    "plt.ylim([0,1])\n",
    "plt.yticks(np.arange(0,1.01,step=0.5))\n",
    "plt.ylabel('Outcome - success/failure in task')\n",
    "ax.spines['top'].set_visible(False)\n",
    "ax.spines['right'].set_visible(False)\n"
   ]
  },
  {
   "cell_type": "code",
   "execution_count": 80,
   "metadata": {},
   "outputs": [],
   "source": [
    "outcome_diff_byT=outcome_bysub_byT.loc[1,'O']-outcome_bysub_byT.loc[2,'O']"
   ]
  },
  {
   "cell_type": "code",
   "execution_count": 82,
   "metadata": {},
   "outputs": [
    {
     "data": {
      "image/png": "[encoded data removed]",
      "text/plain": [
       "<Figure size 432x288 with 1 Axes>"
      ]
     },
     "metadata": {},
     "output_type": "display_data"
    }
   ],
   "source": [
    "fig,ax=plt.subplots()\n",
    "outcome_diff_byT.plot(kind='hist', title= 'Outcome Difference Histogram',color='k');\n",
    "ax.spines['top'].set_visible(False)\n",
    "ax.spines['right'].set_visible(False)\n",
    "plt.xlabel('Difference in outcome OFF-ON');"
   ]
  },
  {
   "cell_type": "code",
   "execution_count": 94,
   "metadata": {},
   "outputs": [],
   "source": [
    "outcome_bysub_byT.reset_index(inplace=True)\n",
    "outcome_bysub_byT.loc[:,['TREAT','SID']] = outcome_bysub_byT.loc[:,['TREAT','SID']].astype('category')\n"
   ]
  },
  {
   "cell_type": "code",
   "execution_count": 95,
   "metadata": {},
   "outputs": [
    {
     "data": {
      "text/html": [
       "<div>\n",
       "<style scoped>\n",
       "    .dataframe tbody tr th:only-of-type {\n",
       "        vertical-align: middle;\n",
       "    }\n",
       "\n",
       "    .dataframe tbody tr th {\n",
       "        vertical-align: top;\n",
       "    }\n",
       "\n",
       "    .dataframe thead th {\n",
       "        text-align: right;\n",
       "    }\n",
       "</style>\n",
       "<table border=\"1\" class=\"dataframe\">\n",
       "  <thead>\n",
       "    <tr style=\"text-align: right;\">\n",
       "      <th></th>\n",
       "      <th>TREAT</th>\n",
       "      <th>SID</th>\n",
       "      <th>T</th>\n",
       "      <th>O</th>\n",
       "      <th>MVC</th>\n",
       "      <th>TrialNum</th>\n",
       "      <th>M</th>\n",
       "      <th>S</th>\n",
       "      <th>SDN</th>\n",
       "    </tr>\n",
       "  </thead>\n",
       "  <tbody>\n",
       "    <tr>\n",
       "      <th>0</th>\n",
       "      <td>1</td>\n",
       "      <td>1</td>\n",
       "      <td>10</td>\n",
       "      <td>0.8</td>\n",
       "      <td>0.456985</td>\n",
       "      <td>8.0</td>\n",
       "      <td>12.705177</td>\n",
       "      <td>3.198895</td>\n",
       "      <td>0.249352</td>\n",
       "    </tr>\n",
       "    <tr>\n",
       "      <th>1</th>\n",
       "      <td>1</td>\n",
       "      <td>1</td>\n",
       "      <td>20</td>\n",
       "      <td>0.8</td>\n",
       "      <td>0.456985</td>\n",
       "      <td>28.0</td>\n",
       "      <td>20.926525</td>\n",
       "      <td>2.948913</td>\n",
       "      <td>0.148018</td>\n",
       "    </tr>\n",
       "    <tr>\n",
       "      <th>2</th>\n",
       "      <td>1</td>\n",
       "      <td>1</td>\n",
       "      <td>30</td>\n",
       "      <td>1.0</td>\n",
       "      <td>0.456985</td>\n",
       "      <td>38.0</td>\n",
       "      <td>29.388230</td>\n",
       "      <td>5.655588</td>\n",
       "      <td>0.194428</td>\n",
       "    </tr>\n",
       "    <tr>\n",
       "      <th>3</th>\n",
       "      <td>1</td>\n",
       "      <td>1</td>\n",
       "      <td>40</td>\n",
       "      <td>1.0</td>\n",
       "      <td>0.456985</td>\n",
       "      <td>18.0</td>\n",
       "      <td>39.100795</td>\n",
       "      <td>6.788741</td>\n",
       "      <td>0.174387</td>\n",
       "    </tr>\n",
       "    <tr>\n",
       "      <th>4</th>\n",
       "      <td>1</td>\n",
       "      <td>1</td>\n",
       "      <td>50</td>\n",
       "      <td>0.8</td>\n",
       "      <td>0.456985</td>\n",
       "      <td>33.0</td>\n",
       "      <td>47.817692</td>\n",
       "      <td>7.936078</td>\n",
       "      <td>0.167377</td>\n",
       "    </tr>\n",
       "  </tbody>\n",
       "</table>\n",
       "</div>"
      ],
      "text/plain": [
       "  TREAT SID   T    O       MVC  TrialNum          M         S       SDN\n",
       "0     1   1  10  0.8  0.456985       8.0  12.705177  3.198895  0.249352\n",
       "1     1   1  20  0.8  0.456985      28.0  20.926525  2.948913  0.148018\n",
       "2     1   1  30  1.0  0.456985      38.0  29.388230  5.655588  0.194428\n",
       "3     1   1  40  1.0  0.456985      18.0  39.100795  6.788741  0.174387\n",
       "4     1   1  50  0.8  0.456985      33.0  47.817692  7.936078  0.167377"
      ]
     },
     "execution_count": 95,
     "metadata": {},
     "output_type": "execute_result"
    }
   ],
   "source": [
    "outcome_bysub_byT.head()"
   ]
  },
  {
   "cell_type": "code",
   "execution_count": null,
   "metadata": {},
   "outputs": [],
   "source": [
    "#Determining if there's any effect of target and treatment on outcome using a 2-way ANOVA\n",
    "formula = 'O ~ C(supp) + C(dose) + C(supp):C(dose)'\n",
    "model = ols(formula, data).fit()\n",
    "aov_table = anova_lm(model, typ=2)"
   ]
  }
 ],
 "metadata": {
  "kernelspec": {
   "display_name": "Python 3",
   "language": "python",
   "name": "python3"
  },
  "language_info": {
   "codemirror_mode": {
    "name": "ipython",
    "version": 3
   },
   "file_extension": ".py",
   "mimetype": "text/x-python",
   "name": "python",
   "nbconvert_exporter": "python",
   "pygments_lexer": "ipython3",
   "version": "3.6.5"
  }
 },
 "nbformat": 4,
 "nbformat_minor": 2
}
